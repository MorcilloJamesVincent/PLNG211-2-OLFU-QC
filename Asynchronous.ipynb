{
  "cells": [
    {
      "cell_type": "markdown",
      "metadata": {
        "id": "view-in-github",
        "colab_type": "text"
      },
      "source": [
        "<a href=\"https://colab.research.google.com/github/MorcilloJamesVincent/PLNG211-2-OLFU-QC/blob/main/Asynchronous.ipynb\" target=\"_parent\"><img src=\"https://colab.research.google.com/assets/colab-badge.svg\" alt=\"Open In Colab\"/></a>"
      ]
    },
    {
      "cell_type": "code",
      "execution_count": 13,
      "metadata": {
        "colab": {
          "base_uri": "https://localhost:8080/"
        },
        "id": "nVMOC3Ft4anX",
        "outputId": "bf948508-a74f-4283-a435-1f388b9789dd"
      },
      "outputs": [
        {
          "output_type": "stream",
          "name": "stdout",
          "text": [
            "Salary Rate: 600\n",
            "Salary: 9000\n",
            "Taxable Amount: 2700.0\n",
            "Net_pay 6300.0\n"
          ]
        }
      ],
      "source": [
        "#Name: James Morcillo\n",
        "#Section: 2\n",
        "#Date: September 17\n",
        "\n",
        "Rate=600\n",
        "Salary=600 * 15\n",
        "Tax=Salary *.3\n",
        "Net_pay=Salary - Tax\n",
        "print(\"Salary Rate:\",Rate)\n",
        "print(\"Salary:\",Salary)\n",
        "print(\"Taxable Amount:\",Tax)\n",
        "print(\"Net_pay\",Net_pay)"
      ]
    }
  ],
  "metadata": {
    "colab": {
      "provenance": [],
      "authorship_tag": "ABX9TyNFVtfa6xmXnkQL85vmGaX+",
      "include_colab_link": true
    },
    "kernelspec": {
      "display_name": "Python 3",
      "name": "python3"
    },
    "language_info": {
      "name": "python"
    }
  },
  "nbformat": 4,
  "nbformat_minor": 0
}