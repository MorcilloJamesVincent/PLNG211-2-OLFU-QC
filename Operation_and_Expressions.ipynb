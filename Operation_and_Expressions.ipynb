{
  "nbformat": 4,
  "nbformat_minor": 0,
  "metadata": {
    "colab": {
      "provenance": [],
      "authorship_tag": "ABX9TyOyDIKaNaDDW4yquf8OYRaO",
      "include_colab_link": true
    },
    "kernelspec": {
      "name": "python3",
      "display_name": "Python 3"
    },
    "language_info": {
      "name": "python"
    }
  },
  "cells": [
    {
      "cell_type": "markdown",
      "metadata": {
        "id": "view-in-github",
        "colab_type": "text"
      },
      "source": [
        "<a href=\"https://colab.research.google.com/github/MorcilloJamesVincent/PLNG211-2-OLFU-QC/blob/main/Operation_and_Expressions.ipynb\" target=\"_parent\"><img src=\"https://colab.research.google.com/assets/colab-badge.svg\" alt=\"Open In Colab\"/></a>"
      ]
    },
    {
      "cell_type": "markdown",
      "source": [
        "Boolean Operators"
      ],
      "metadata": {
        "id": "-xLgQ6FXE6GN"
      }
    },
    {
      "cell_type": "code",
      "source": [
        "a = 10\n",
        "b = 5\n",
        "print(a>b)\n",
        "print(b==a)\n",
        "print(5>10)"
      ],
      "metadata": {
        "colab": {
          "base_uri": "https://localhost:8080/"
        },
        "id": "45ca2luZE7Ds",
        "outputId": "ebe7c271-f439-4865-d8d8-fabda6ccbb01"
      },
      "execution_count": 1,
      "outputs": [
        {
          "output_type": "stream",
          "name": "stdout",
          "text": [
            "True\n",
            "False\n",
            "False\n"
          ]
        }
      ]
    },
    {
      "cell_type": "markdown",
      "source": [
        "Boolean () Function"
      ],
      "metadata": {
        "id": "dcA485XeFRJN"
      }
    },
    {
      "cell_type": "code",
      "source": [
        "print(bool(2))\n",
        "print(bool(\"Hello World\"))\n",
        "print(bool(0))\n",
        "print(bool(None))\n",
        "print(bool([]))"
      ],
      "metadata": {
        "colab": {
          "base_uri": "https://localhost:8080/"
        },
        "id": "E54oIWUSGPsU",
        "outputId": "02b77afd-4e10-41fd-9fb0-7ed58103e0fe"
      },
      "execution_count": 2,
      "outputs": [
        {
          "output_type": "stream",
          "name": "stdout",
          "text": [
            "True\n",
            "True\n",
            "False\n",
            "False\n",
            "False\n"
          ]
        }
      ]
    },
    {
      "cell_type": "markdown",
      "source": [
        "Function that returns a boolean answer"
      ],
      "metadata": {
        "id": "y4LULF4KGd4k"
      }
    },
    {
      "cell_type": "code",
      "source": [
        "def My_Function():\n",
        "  return False\n",
        "\n",
        "if My_Function():\n",
        "  print(\"Correct\")\n",
        "else:\n",
        "  print(\"Incorrect\")"
      ],
      "metadata": {
        "colab": {
          "base_uri": "https://localhost:8080/"
        },
        "id": "owP7meetGiPD",
        "outputId": "467b8372-a431-4584-f5bb-90c5d2405dbd"
      },
      "execution_count": 4,
      "outputs": [
        {
          "output_type": "stream",
          "name": "stdout",
          "text": [
            "Incorrect\n"
          ]
        }
      ]
    },
    {
      "cell_type": "markdown",
      "source": [
        "You Try!"
      ],
      "metadata": {
        "id": "Q-icm4HxGmFL"
      }
    },
    {
      "cell_type": "code",
      "source": [
        "c = 6\n",
        "d = 7\n",
        "print(c==d)\n",
        "print(c!=d)"
      ],
      "metadata": {
        "colab": {
          "base_uri": "https://localhost:8080/"
        },
        "id": "B90ANulZGrf0",
        "outputId": "762d07af-b267-4416-860e-8534a63ad717"
      },
      "execution_count": 5,
      "outputs": [
        {
          "output_type": "stream",
          "name": "stdout",
          "text": [
            "False\n",
            "True\n"
          ]
        }
      ]
    },
    {
      "cell_type": "markdown",
      "source": [
        "Python Bitwise Operators"
      ],
      "metadata": {
        "id": "CRKvXpYCG3a8"
      }
    },
    {
      "cell_type": "code",
      "source": [
        "e = 60\n",
        "f = 13        \n",
        "#& and, #| or,   #-/~\n",
        "\n",
        "print(e>>1)\n",
        "print(e<<1)\n",
        "print(~f)      #00001101, 2s complement"
      ],
      "metadata": {
        "colab": {
          "base_uri": "https://localhost:8080/"
        },
        "id": "nIV42vCPG7qU",
        "outputId": "22658665-042a-4745-981f-49878656e9f8"
      },
      "execution_count": 6,
      "outputs": [
        {
          "output_type": "stream",
          "name": "stdout",
          "text": [
            "30\n",
            "120\n",
            "-14\n"
          ]
        }
      ]
    },
    {
      "cell_type": "markdown",
      "source": [
        "Python Assignment Operator"
      ],
      "metadata": {
        "id": "fGzVPSbxHNrL"
      }
    },
    {
      "cell_type": "code",
      "source": [
        "x= 18\n",
        "y = 7\n",
        "x+=3    #same as x = x +3   , x  = 18+3  = 21\n",
        "print(\"x=\",x)"
      ],
      "metadata": {
        "colab": {
          "base_uri": "https://localhost:8080/"
        },
        "id": "3OhqTj2KHOS0",
        "outputId": "a598e73c-529e-4b45-8d3b-c8fd5b7449d2"
      },
      "execution_count": 7,
      "outputs": [
        {
          "output_type": "stream",
          "name": "stdout",
          "text": [
            "x= 21\n"
          ]
        }
      ]
    },
    {
      "cell_type": "markdown",
      "source": [
        "Logical Operators"
      ],
      "metadata": {
        "id": "myaWoCw8HSZk"
      }
    },
    {
      "cell_type": "code",
      "source": [
        "print(x>y and x==x)\n",
        "print(y!=y or x==y)\n",
        "print(not(y!=y or x==y))"
      ],
      "metadata": {
        "colab": {
          "base_uri": "https://localhost:8080/"
        },
        "id": "I-orx_fTHS8D",
        "outputId": "5757ef06-b7d6-4913-c851-540e7eb599f5"
      },
      "execution_count": 8,
      "outputs": [
        {
          "output_type": "stream",
          "name": "stdout",
          "text": [
            "True\n",
            "False\n",
            "True\n"
          ]
        }
      ]
    },
    {
      "cell_type": "markdown",
      "source": [
        "Identity Operators"
      ],
      "metadata": {
        "id": "rNQpG-m8HXsb"
      }
    },
    {
      "cell_type": "code",
      "source": [
        "#is, is not\n",
        "print(x is y)\n",
        "print(x is x)\n",
        "print(x is not y)"
      ],
      "metadata": {
        "colab": {
          "base_uri": "https://localhost:8080/"
        },
        "id": "aoUaLFTXHYdk",
        "outputId": "6fee6076-a76d-41b7-8d54-10039bd52484"
      },
      "execution_count": 9,
      "outputs": [
        {
          "output_type": "stream",
          "name": "stdout",
          "text": [
            "False\n",
            "True\n",
            "True\n"
          ]
        }
      ]
    },
    {
      "cell_type": "markdown",
      "source": [],
      "metadata": {
        "id": "OMxRgcBHHVHU"
      }
    }
  ]
}