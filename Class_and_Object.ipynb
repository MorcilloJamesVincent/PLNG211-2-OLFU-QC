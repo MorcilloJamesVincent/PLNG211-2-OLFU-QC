{
  "nbformat": 4,
  "nbformat_minor": 0,
  "metadata": {
    "colab": {
      "provenance": [],
      "authorship_tag": "ABX9TyOn35gRpSUaV6vVlspDVN09",
      "include_colab_link": true
    },
    "kernelspec": {
      "name": "python3",
      "display_name": "Python 3"
    },
    "language_info": {
      "name": "python"
    }
  },
  "cells": [
    {
      "cell_type": "markdown",
      "metadata": {
        "id": "view-in-github",
        "colab_type": "text"
      },
      "source": [
        "<a href=\"https://colab.research.google.com/github/MorcilloJamesVincent/PLNG211-2-OLFU-QC/blob/main/Class_and_Object.ipynb\" target=\"_parent\"><img src=\"https://colab.research.google.com/assets/colab-badge.svg\" alt=\"Open In Colab\"/></a>"
      ]
    },
    {
      "cell_type": "code",
      "execution_count": 1,
      "metadata": {
        "id": "luORObIodyr7"
      },
      "outputs": [],
      "source": [
        "class Person:\n",
        "  pass"
      ]
    },
    {
      "cell_type": "code",
      "source": [
        "\n",
        "class Person:\n",
        "  def __init__(self,name,age,address):\n",
        "    self.name = name\n",
        "    self.age = age\n",
        "    self.address = address\n",
        "  def myFunction(self):\n",
        "    print(\"Hello! My name is\",self.name)\n",
        "    print(\"I am\",self.age)\n",
        "    print(\"I live in\",self.address)\n",
        "\n",
        "class Student(Person):\n",
        "  pass\n",
        "\n",
        "class Teacher(Person):\n",
        "  pass\n",
        "\n",
        "p1 = Person(\"James\",20,\"Rodriguez\")\n",
        "p1.myFunction()\n",
        "\n",
        "p2 = Student(\"Ana\", 26, \"Manila\")\n",
        "p2.myFunction()\n",
        "\n",
        "p3 = Teacher(\"Mam\", 30, \"Valenzuela City\")\n",
        "p3.myFunction()"
      ],
      "metadata": {
        "colab": {
          "base_uri": "https://localhost:8080/"
        },
        "id": "k2hWjDALecLc",
        "outputId": "5d82bfb5-248f-4f1b-9ac4-f7fa0cde0692"
      },
      "execution_count": 19,
      "outputs": [
        {
          "output_type": "stream",
          "name": "stdout",
          "text": [
            "Hello! My name is James\n",
            "I am 20\n",
            "I live in Rodriguez\n",
            "Hello! My name is Ana\n",
            "I am 26\n",
            "I live in Manila\n",
            "Hello! My name is Mam\n",
            "I am 30\n",
            "I live in Valenzuela City\n"
          ]
        }
      ]
    },
    {
      "cell_type": "code",
      "source": [
        "#Modify an Object Property \n",
        "\n",
        "p1.age = 25\n",
        "p1.myFunction()\n",
        "\n",
        "\n",
        "     "
      ],
      "metadata": {
        "colab": {
          "base_uri": "https://localhost:8080/"
        },
        "id": "4PgwqNcagJfQ",
        "outputId": "7947462a-c67e-46b0-f66d-7806946d9113"
      },
      "execution_count": 20,
      "outputs": [
        {
          "output_type": "stream",
          "name": "stdout",
          "text": [
            "Hello! My name is James\n",
            "I am 25\n",
            "I live in Rodriguez\n"
          ]
        }
      ]
    },
    {
      "cell_type": "code",
      "source": [
        "#Delete an Object Property\n",
        "\n",
        "del p2.age\n",
        "p2.myFunction"
      ],
      "metadata": {
        "colab": {
          "base_uri": "https://localhost:8080/",
          "height": 217
        },
        "id": "cKUKFYmOgqsH",
        "outputId": "a6445694-6854-4868-c5c5-04b750131bd5"
      },
      "execution_count": 24,
      "outputs": [
        {
          "output_type": "error",
          "ename": "NameError",
          "evalue": "ignored",
          "traceback": [
            "\u001b[0;31m---------------------------------------------------------------------------\u001b[0m",
            "\u001b[0;31mNameError\u001b[0m                                 Traceback (most recent call last)",
            "\u001b[0;32m<ipython-input-24-25d4133dfa69>\u001b[0m in \u001b[0;36m<module>\u001b[0;34m\u001b[0m\n\u001b[1;32m      1\u001b[0m \u001b[0;31m#Delete an Object Property\u001b[0m\u001b[0;34m\u001b[0m\u001b[0;34m\u001b[0m\u001b[0;34m\u001b[0m\u001b[0m\n\u001b[1;32m      2\u001b[0m \u001b[0;34m\u001b[0m\u001b[0m\n\u001b[0;32m----> 3\u001b[0;31m \u001b[0;32mdel\u001b[0m \u001b[0mp2\u001b[0m\u001b[0;34m.\u001b[0m\u001b[0mage\u001b[0m\u001b[0;34m\u001b[0m\u001b[0;34m\u001b[0m\u001b[0m\n\u001b[0m\u001b[1;32m      4\u001b[0m \u001b[0mp2\u001b[0m\u001b[0;34m.\u001b[0m\u001b[0mmyFunction\u001b[0m\u001b[0;34m\u001b[0m\u001b[0;34m\u001b[0m\u001b[0m\n",
            "\u001b[0;31mNameError\u001b[0m: name 'p2' is not defined"
          ]
        }
      ]
    },
    {
      "cell_type": "code",
      "source": [
        "#Application 1 - Write a Python program that computes the area and perimeter of a Square\n",
        "#Use Square as class name\n",
        "#Use sides as attributes\n",
        "#Create methods Area() and Perimeter() \n",
        "\n",
        "class Square:\n",
        "  pass\n",
        "  def __init__(side,size,per):\n",
        "    side.size = pow(size, 2)\n",
        "    side.per = per*4\n",
        "  def Area(side):\n",
        "    print(\"The area of Square\",side.size)\n",
        "    \n",
        "  def Perimeter(side):\n",
        "    print(\"The Perimeter of Square\",side.per)\n",
        "\n",
        "p1 = Square(6,2)\n",
        "p1.Area()\n",
        "p1.Perimeter()"
      ],
      "metadata": {
        "colab": {
          "base_uri": "https://localhost:8080/"
        },
        "id": "Z4HIXZgShTkG",
        "outputId": "b946e3b6-2c86-4772-c8a7-2881325d9cc1"
      },
      "execution_count": 30,
      "outputs": [
        {
          "output_type": "stream",
          "name": "stdout",
          "text": [
            "The area of Square 36\n",
            "The Perimeter of Square 8\n"
          ]
        }
      ]
    }
  ]
}