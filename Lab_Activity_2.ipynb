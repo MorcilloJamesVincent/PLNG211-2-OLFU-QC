{
  "nbformat": 4,
  "nbformat_minor": 0,
  "metadata": {
    "colab": {
      "provenance": [],
      "authorship_tag": "ABX9TyNRrOjuL9l4H+jDb1lzYNY+",
      "include_colab_link": true
    },
    "kernelspec": {
      "name": "python3",
      "display_name": "Python 3"
    },
    "language_info": {
      "name": "python"
    }
  },
  "cells": [
    {
      "cell_type": "markdown",
      "metadata": {
        "id": "view-in-github",
        "colab_type": "text"
      },
      "source": [
        "<a href=\"https://colab.research.google.com/github/MorcilloJamesVincent/PLNG211-2-OLFU-QC/blob/main/Lab_Activity_2.ipynb\" target=\"_parent\"><img src=\"https://colab.research.google.com/assets/colab-badge.svg\" alt=\"Open In Colab\"/></a>"
      ]
    },
    {
      "cell_type": "code",
      "execution_count": 1,
      "metadata": {
        "colab": {
          "base_uri": "https://localhost:8080/"
        },
        "id": "_Y8PyoxMhXdN",
        "outputId": "ebc7ba29-e9a6-4c46-e8aa-7e51e3536c69"
      },
      "outputs": [
        {
          "output_type": "stream",
          "name": "stdout",
          "text": [
            "Name: James Vincent A. Morcillo\n",
            "Student Number: 02210004836\n",
            "Age: 20 years old\n",
            "School: Our Lady OF Fatima University\n",
            "Course: Computer Science\n"
          ]
        }
      ],
      "source": [
        "class Student:\n",
        "\n",
        "  def __init__(student, Name, Student_Number , Age, School, Course):\n",
        "    student.Name = Name\n",
        "    student.Student_Number = Student_Number\n",
        "    student.Age = Age\n",
        "    student.School = School\n",
        "    student.Course = Course\n",
        "\n",
        "  def info(student):\n",
        "    print(\"Name:\",student.Name)\n",
        "    print(\"Student Number:\",student.Student_Number)\n",
        "    print(\"Age:\",student.Age)\n",
        "    print(\"School:\", student.School)\n",
        "    print(\"Course:\", student.Course)\n",
        "\n",
        "Myself = Student(\"James Vincent A. Morcillo\", \"02210004836\", \"20 years old\", \"Our Lady OF Fatima University\", \"Computer Science\")\n",
        "Myself.info()"
      ]
    }
  ]
}