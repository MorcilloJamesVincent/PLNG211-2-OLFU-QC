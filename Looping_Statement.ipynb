{
  "nbformat": 4,
  "nbformat_minor": 0,
  "metadata": {
    "colab": {
      "provenance": [],
      "authorship_tag": "ABX9TyPxhNpBb5VDcyXd3/LARtFg",
      "include_colab_link": true
    },
    "kernelspec": {
      "name": "python3",
      "display_name": "Python 3"
    },
    "language_info": {
      "name": "python"
    }
  },
  "cells": [
    {
      "cell_type": "markdown",
      "metadata": {
        "id": "view-in-github",
        "colab_type": "text"
      },
      "source": [
        "<a href=\"https://colab.research.google.com/github/MorcilloJamesVincent/PLNG211-2-OLFU-QC/blob/main/Looping_Statement.ipynb\" target=\"_parent\"><img src=\"https://colab.research.google.com/assets/colab-badge.svg\" alt=\"Open In Colab\"/></a>"
      ]
    },
    {
      "cell_type": "code",
      "execution_count": 8,
      "metadata": {
        "colab": {
          "base_uri": "https://localhost:8080/"
        },
        "id": "oqFoHaOfXM9d",
        "outputId": "2b656f23-20ce-456a-af81-af04a5a453ed"
      },
      "outputs": [
        {
          "output_type": "stream",
          "name": "stdout",
          "text": [
            "they are both equal\n"
          ]
        }
      ],
      "source": [
        "#If Statement\n",
        "\n",
        "a = 5\n",
        "b= 5\n",
        "\n",
        "if b>a:\n",
        "  print(\"b is greater than a\")\n",
        "\n",
        "#Elif Statement\n",
        "\n",
        "elif b<a:\n",
        "  print(\"b is less than a\")\n",
        "\n",
        "#Else Statement\n",
        "\n",
        "else:\n",
        "  print(\"they are both equal\")\n"
      ]
    },
    {
      "cell_type": "code",
      "source": [
        "#Short hand if\n",
        "a = 7\n",
        "b= 6\n",
        "\n",
        "if a>b: print(\"a is greater than b\")"
      ],
      "metadata": {
        "colab": {
          "base_uri": "https://localhost:8080/"
        },
        "id": "utNL5kk6Xy-0",
        "outputId": "74533741-3dac-4047-f7b2-2762dc9095e0"
      },
      "execution_count": 10,
      "outputs": [
        {
          "output_type": "stream",
          "name": "stdout",
          "text": [
            "a is greater than b\n"
          ]
        }
      ]
    },
    {
      "cell_type": "code",
      "source": [
        "#Short hand if.. else\n",
        "\n",
        "print(\"a is greater than b\") if a>b else print(\"a is less than b\")"
      ],
      "metadata": {
        "colab": {
          "base_uri": "https://localhost:8080/"
        },
        "id": "a451uu6sYDOc",
        "outputId": "604ba52d-6531-41a4-91c5-b7e5aa135111"
      },
      "execution_count": 11,
      "outputs": [
        {
          "output_type": "stream",
          "name": "stdout",
          "text": [
            "a is greater than b\n"
          ]
        }
      ]
    },
    {
      "cell_type": "code",
      "source": [
        "#And and or statement\n",
        "a = 5\n",
        "b= 6\n",
        "c= 7\n",
        "\n",
        "if c>b and b>a:\n",
        "  print(\"both operands are TRUE\")\n",
        "\n",
        "if c>b or a>b:\n",
        "  print(\"at least one of the operands is TRUE\")"
      ],
      "metadata": {
        "colab": {
          "base_uri": "https://localhost:8080/"
        },
        "id": "wOL2UlRrX9Gk",
        "outputId": "c70af5d0-2b8b-442f-cd5c-ffe270487cff"
      },
      "execution_count": 12,
      "outputs": [
        {
          "output_type": "stream",
          "name": "stdout",
          "text": [
            "both operands are TRUE\n",
            "at least one of the operands is TRUE\n"
          ]
        }
      ]
    },
    {
      "cell_type": "code",
      "source": [
        "#Nested if\n",
        "\n",
        "x = 41\n",
        "if x>10:\n",
        "  print(\"Above ten\")\n",
        "  if x>20:\n",
        "    print(\"And also above 20\")\n",
        "    if x>30:\n",
        "      print(\"And also above 30\")\n",
        "      if x>40:\n",
        "        print(\"And also above 40\")\n",
        "        if x>50:\n",
        "          print(\"And also above 50\")\n",
        "        else:\n",
        "          print(\"But not above 50\")\n",
        "      else:\n",
        "        print(\"But not above 40\")\n",
        "    else:\n",
        "      print(\"But not above 30\") \n",
        "  else:\n",
        "    print(\"But not above 20\")\n",
        "else:\n",
        "  print(\"But not above 10\")"
      ],
      "metadata": {
        "colab": {
          "base_uri": "https://localhost:8080/"
        },
        "id": "vhqVXEhPYRvM",
        "outputId": "03137321-2969-4079-c910-4a73959e08cd"
      },
      "execution_count": 14,
      "outputs": [
        {
          "output_type": "stream",
          "name": "stdout",
          "text": [
            "Above ten\n",
            "And also above 20\n",
            "And also above 30\n",
            "And also above 40\n",
            "But not above 50\n"
          ]
        }
      ]
    },
    {
      "cell_type": "code",
      "source": [
        "#Example 1. Write a program that determines if the input age is qualified to vote or not. \n",
        "#The qualifying age is 18 years old and above.\n",
        "\n",
        "age = 18\n",
        "if age >= 18:\n",
        "  print(\"You are qualified to vote\")\n",
        "else:\n",
        "  print(\"You are not qualified to vote\")\n"
      ],
      "metadata": {
        "colab": {
          "base_uri": "https://localhost:8080/"
        },
        "id": "sFDQ42WvYX_E",
        "outputId": "6f1e7056-6ea8-4c66-8fbd-889cfb8ea6fa"
      },
      "execution_count": 15,
      "outputs": [
        {
          "output_type": "stream",
          "name": "stdout",
          "text": [
            "You are qualified to vote\n"
          ]
        }
      ]
    },
    {
      "cell_type": "code",
      "source": [
        "print('Enter your age:')\n",
        "age = int(input())\n",
        "\n",
        "if age >= 18:\n",
        "  print(\"You are qualified to vote\")\n",
        "else:\n",
        "  print(\"You are not qualified to vote\")\n"
      ],
      "metadata": {
        "colab": {
          "base_uri": "https://localhost:8080/"
        },
        "id": "96QF56lrYgUU",
        "outputId": "3186748d-a7e2-4501-8d5e-9552eed2107f"
      },
      "execution_count": 17,
      "outputs": [
        {
          "output_type": "stream",
          "name": "stdout",
          "text": [
            "Enter your age:\n",
            "20\n",
            "You are qualified to vote\n"
          ]
        }
      ]
    },
    {
      "cell_type": "code",
      "source": [
        "#For loop\n",
        "\n",
        "week = [\"Sunday\",'Monday', 'Tuesday', 'Wednesday', \"Thursday\",\"Friday\", \"Satuday\"]\n",
        "\n",
        "for x in week:\n",
        "  print(x)"
      ],
      "metadata": {
        "colab": {
          "base_uri": "https://localhost:8080/"
        },
        "id": "iT5fZXQKY0xE",
        "outputId": "4e8129e9-929b-4818-8298-b45d86900c47"
      },
      "execution_count": 18,
      "outputs": [
        {
          "output_type": "stream",
          "name": "stdout",
          "text": [
            "Sunday\n",
            "Monday\n",
            "Tuesday\n",
            "Wednesday\n",
            "Thursday\n",
            "Friday\n",
            "Satuday\n"
          ]
        }
      ]
    },
    {
      "cell_type": "code",
      "source": [
        "week = [\"Sunday\",'Monday', 'Tuesday', 'Wednesday', \"Thursday\",\"Friday\", \"Satuday\"]\n",
        "for x in week:\n",
        "  print(x)\n",
        "  if x == \"Thursday\":\n",
        "      break"
      ],
      "metadata": {
        "colab": {
          "base_uri": "https://localhost:8080/"
        },
        "id": "UHiU9u2lY4Us",
        "outputId": "86357989-96ad-4a4c-f3bd-2c6ba7d1fb7a"
      },
      "execution_count": 19,
      "outputs": [
        {
          "output_type": "stream",
          "name": "stdout",
          "text": [
            "Sunday\n",
            "Monday\n",
            "Tuesday\n",
            "Wednesday\n",
            "Thursday\n"
          ]
        }
      ]
    },
    {
      "cell_type": "code",
      "source": [
        "#Using for loop to display only THURSDAY\n",
        "week = [\"Sunday\",'Monday', 'Tuesday', 'Wednesday', \"Thursday\",\"Friday\", \"Satuday\"]\n",
        "for x in week:\n",
        "  if x == \"Thursday\":\n",
        "    print(x)\n",
        "    break"
      ],
      "metadata": {
        "colab": {
          "base_uri": "https://localhost:8080/"
        },
        "id": "8rp6u9qMY7-M",
        "outputId": "2431daa3-205c-4f09-b58d-d506817e7bba"
      },
      "execution_count": 20,
      "outputs": [
        {
          "output_type": "stream",
          "name": "stdout",
          "text": [
            "Thursday\n"
          ]
        }
      ]
    },
    {
      "cell_type": "code",
      "source": [
        "#looping through String\n",
        "\n",
        "for x in \"Philippines\":\n",
        "  print(x)"
      ],
      "metadata": {
        "colab": {
          "base_uri": "https://localhost:8080/"
        },
        "id": "xAB4YeecY_aL",
        "outputId": "dc49fcf7-22cc-4d58-9a82-f7fad7da7aac"
      },
      "execution_count": 21,
      "outputs": [
        {
          "output_type": "stream",
          "name": "stdout",
          "text": [
            "P\n",
            "h\n",
            "i\n",
            "l\n",
            "i\n",
            "p\n",
            "p\n",
            "i\n",
            "n\n",
            "e\n",
            "s\n"
          ]
        }
      ]
    },
    {
      "cell_type": "code",
      "source": [
        "#The range () function\n",
        "\n",
        "#for x in range (6):\n",
        "  #print(x)\n",
        "for x in range (3,7,3):\n",
        "  print(x)"
      ],
      "metadata": {
        "colab": {
          "base_uri": "https://localhost:8080/"
        },
        "id": "n3cyb9c1ZH6b",
        "outputId": "f0c5f15a-7298-43f2-9004-5808de1e9f7f"
      },
      "execution_count": 23,
      "outputs": [
        {
          "output_type": "stream",
          "name": "stdout",
          "text": [
            "3\n",
            "6\n"
          ]
        }
      ]
    },
    {
      "cell_type": "code",
      "source": [
        "#Nested loops\n",
        "adjective = [\"red\", \"big\", \"tasty\"]\n",
        "fruits = [\"apple\", \"banana\", \"cherry\"]\n",
        "\n",
        "for x in adjective:\n",
        "  for y in fruits:\n",
        "    print(x, y)"
      ],
      "metadata": {
        "colab": {
          "base_uri": "https://localhost:8080/"
        },
        "id": "HbuMEbu-ZbRD",
        "outputId": "f0d144af-80ea-4c15-e29a-517513cf6a6e"
      },
      "execution_count": 24,
      "outputs": [
        {
          "output_type": "stream",
          "name": "stdout",
          "text": [
            "red apple\n",
            "red banana\n",
            "red cherry\n",
            "big apple\n",
            "big banana\n",
            "big cherry\n",
            "tasty apple\n",
            "tasty banana\n",
            "tasty cherry\n"
          ]
        }
      ]
    },
    {
      "cell_type": "code",
      "source": [
        "#While loop\n",
        "\n",
        "i = 1\n",
        "while i <= 6:\n",
        "  print(i)\n",
        "  i+=1"
      ],
      "metadata": {
        "colab": {
          "base_uri": "https://localhost:8080/"
        },
        "id": "Ig8zLeKXZjXe",
        "outputId": "516b405d-d0a2-46d8-90a6-35724d8f1b44"
      },
      "execution_count": 25,
      "outputs": [
        {
          "output_type": "stream",
          "name": "stdout",
          "text": [
            "1\n",
            "2\n",
            "3\n",
            "4\n",
            "5\n",
            "6\n"
          ]
        }
      ]
    },
    {
      "cell_type": "code",
      "source": [
        "#while loop with break\n",
        "i = 1\n",
        "while i < 6:\n",
        "  print(i)\n",
        "  if i == 3:\n",
        "    break\n",
        "  i += 1"
      ],
      "metadata": {
        "colab": {
          "base_uri": "https://localhost:8080/"
        },
        "id": "TBRLPQSUZknb",
        "outputId": "c59cd9e8-735f-4c6b-86d4-18db114e7e05"
      },
      "execution_count": 26,
      "outputs": [
        {
          "output_type": "stream",
          "name": "stdout",
          "text": [
            "1\n",
            "2\n",
            "3\n"
          ]
        }
      ]
    },
    {
      "cell_type": "code",
      "source": [
        "#while loop with break Application 1. Using while loop, display only 3\n",
        "i = 1\n",
        "while i<6:\n",
        "  if i ==3:\n",
        "    print(i)\n",
        "    break\n",
        "  i+=1"
      ],
      "metadata": {
        "colab": {
          "base_uri": "https://localhost:8080/"
        },
        "id": "MGMH7UUAZs4U",
        "outputId": "03e0efff-062a-468d-c18f-2b05afb3bd27"
      },
      "execution_count": 27,
      "outputs": [
        {
          "output_type": "stream",
          "name": "stdout",
          "text": [
            "3\n"
          ]
        }
      ]
    },
    {
      "cell_type": "code",
      "source": [
        "#If Statement\n",
        "i = 0\n",
        "while i < 6:\n",
        "  i += 1\n",
        "  if i == 3:\n",
        "    continue\n",
        "  print(i)"
      ],
      "metadata": {
        "colab": {
          "base_uri": "https://localhost:8080/"
        },
        "id": "FkF3C_9AZu9c",
        "outputId": "1330a8cb-3cc0-44c4-c243-e4ec8500bd1c"
      },
      "execution_count": 30,
      "outputs": [
        {
          "output_type": "stream",
          "name": "stdout",
          "text": [
            "1\n",
            "2\n",
            "4\n",
            "5\n",
            "6\n"
          ]
        }
      ]
    },
    {
      "cell_type": "code",
      "source": [
        "#Else statement\n",
        "i = 1\n",
        "while i<6:\n",
        "  print(i)\n",
        "  i+=1\n",
        "else:\n",
        "  print(\"i is no longer less than 6\")"
      ],
      "metadata": {
        "id": "FHuW3eMgZ0Sk"
      },
      "execution_count": null,
      "outputs": []
    }
  ]
}