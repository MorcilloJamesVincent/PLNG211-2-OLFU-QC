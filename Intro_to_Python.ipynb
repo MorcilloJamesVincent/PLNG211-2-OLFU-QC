{
  "nbformat": 4,
  "nbformat_minor": 0,
  "metadata": {
    "colab": {
      "provenance": [],
      "authorship_tag": "ABX9TyPUdr1I25BGk8NTOS06gKov",
      "include_colab_link": true
    },
    "kernelspec": {
      "name": "python3",
      "display_name": "Python 3"
    },
    "language_info": {
      "name": "python"
    }
  },
  "cells": [
    {
      "cell_type": "markdown",
      "metadata": {
        "id": "view-in-github",
        "colab_type": "text"
      },
      "source": [
        "<a href=\"https://colab.research.google.com/github/MorcilloJamesVincent/PLNG211-2-OLFU-QC/blob/main/Intro_to_Python.ipynb\" target=\"_parent\"><img src=\"https://colab.research.google.com/assets/colab-badge.svg\" alt=\"Open In Colab\"/></a>"
      ]
    },
    {
      "cell_type": "markdown",
      "source": [
        "Comment"
      ],
      "metadata": {
        "id": "UmJQ0SVSmYF6"
      }
    },
    {
      "cell_type": "code",
      "source": [
        "# This is a comment\n",
        "print(\"Hello, world\")"
      ],
      "metadata": {
        "colab": {
          "base_uri": "https://localhost:8080/"
        },
        "id": "RPkMcVZ5ml3A",
        "outputId": "d0553e50-04fc-40e7-82c3-96866df44e64"
      },
      "execution_count": 36,
      "outputs": [
        {
          "output_type": "stream",
          "name": "stdout",
          "text": [
            "Hello, world\n"
          ]
        }
      ]
    },
    {
      "cell_type": "markdown",
      "source": [
        "Python Variable"
      ],
      "metadata": {
        "id": "pR6AbvJDnFoJ"
      }
    },
    {
      "cell_type": "code",
      "source": [
        "#Single variable\n",
        "a = float(10)\n",
        "b = -1\n",
        "\n",
        "#Multiple variable\n",
        "a,b = float(10), -1\n",
        "\n",
        "\n",
        "#string type\n",
        "\n",
        "c = \"JV\""
      ],
      "metadata": {
        "id": "kojvQr7-nWDK"
      },
      "execution_count": 40,
      "outputs": []
    },
    {
      "cell_type": "code",
      "source": [
        "print(a)\n",
        "\n",
        "#string type\n",
        "\n",
        "c = str(\"JV\")\n",
        "c\n",
        "\n",
        "print(c)\n",
        "print(c)\n",
        "print(c)"
      ],
      "metadata": {
        "colab": {
          "base_uri": "https://localhost:8080/"
        },
        "id": "GNq_Y4lXo98i",
        "outputId": "53e91d1b-9715-478e-f5d2-787e729cd638"
      },
      "execution_count": 45,
      "outputs": [
        {
          "output_type": "stream",
          "name": "stdout",
          "text": [
            "10.0\n",
            "JV\n",
            "JV\n",
            "JV\n"
          ]
        }
      ]
    },
    {
      "cell_type": "code",
      "source": [
        "#Proper Indentation\n",
        "if 8>2:\n",
        "  print(\"8 is greater than 2\")"
      ],
      "metadata": {
        "colab": {
          "base_uri": "https://localhost:8080/"
        },
        "id": "Kf1UBtQRriSU",
        "outputId": "0f0ff225-2729-4b4b-eaad-08df4d6e5f35"
      },
      "execution_count": 44,
      "outputs": [
        {
          "output_type": "stream",
          "name": "stdout",
          "text": [
            "8 is greater than 2\n"
          ]
        }
      ]
    },
    {
      "cell_type": "markdown",
      "source": [
        "Single and Double Quote"
      ],
      "metadata": {
        "id": "ZTkxP2M2r4oC"
      }
    },
    {
      "cell_type": "code",
      "source": [
        "f = \"Jane\"\n",
        "g = 'Jane'\n",
        "\n",
        "print(f)\n",
        "print(g)"
      ],
      "metadata": {
        "colab": {
          "base_uri": "https://localhost:8080/"
        },
        "id": "cxgPu8JJr7r6",
        "outputId": "f821abad-85f6-471c-cada-9e9f6d417172"
      },
      "execution_count": 46,
      "outputs": [
        {
          "output_type": "stream",
          "name": "stdout",
          "text": [
            "Jane\n",
            "Jane\n"
          ]
        }
      ]
    },
    {
      "cell_type": "markdown",
      "source": [
        "Multiple Variables"
      ],
      "metadata": {
        "id": "MYUgyQWysF_C"
      }
    },
    {
      "cell_type": "code",
      "source": [
        "x,y,z = 10,12,13\n",
        "\n",
        "print(x)\n",
        "print(y)\n",
        "print(z)"
      ],
      "metadata": {
        "colab": {
          "base_uri": "https://localhost:8080/"
        },
        "id": "Q-tIGaZ5salC",
        "outputId": "91a632bd-374f-4b53-c6d6-c5c1a74d32a7"
      },
      "execution_count": 49,
      "outputs": [
        {
          "output_type": "stream",
          "name": "stdout",
          "text": [
            "10\n",
            "12\n",
            "13\n"
          ]
        }
      ]
    },
    {
      "cell_type": "markdown",
      "source": [
        "Single Values to Multiple Variables"
      ],
      "metadata": {
        "id": "BsJXNsDMskL6"
      }
    },
    {
      "cell_type": "code",
      "source": [
        "x=y=z='python'\n",
        "print(x)\n",
        "print(y)\n",
        "print(z)"
      ],
      "metadata": {
        "colab": {
          "base_uri": "https://localhost:8080/"
        },
        "id": "8xyK4ce6ssXb",
        "outputId": "3082c179-b51e-4109-ec8d-c3a17bbf7906"
      },
      "execution_count": 50,
      "outputs": [
        {
          "output_type": "stream",
          "name": "stdout",
          "text": [
            "python\n",
            "python\n",
            "python\n"
          ]
        }
      ]
    },
    {
      "cell_type": "markdown",
      "source": [
        "Output Variables"
      ],
      "metadata": {
        "id": "KFKTT481s4uS"
      }
    },
    {
      "cell_type": "code",
      "source": [
        "x = \"amazing\"\n",
        "y = \"Python Programming is\"\n",
        "\n",
        "print(y+\" \" + x)"
      ],
      "metadata": {
        "colab": {
          "base_uri": "https://localhost:8080/"
        },
        "id": "KGWdg9ous7ky",
        "outputId": "94581e4b-bcfa-4580-fae6-da8fa53ba0ba"
      },
      "execution_count": 52,
      "outputs": [
        {
          "output_type": "stream",
          "name": "stdout",
          "text": [
            "Python Programming is amazing\n"
          ]
        }
      ]
    },
    {
      "cell_type": "markdown",
      "source": [
        "Arithmetic Operations"
      ],
      "metadata": {
        "id": "sayUZfF1tJSq"
      }
    },
    {
      "cell_type": "code",
      "source": [
        "c = 5\n",
        "c = c+3    # c = c+3  , c = 5+3\n",
        "print(c)"
      ],
      "metadata": {
        "colab": {
          "base_uri": "https://localhost:8080/"
        },
        "id": "KidaJAqotLHq",
        "outputId": "a51eae26-85be-4189-9aef-8eb6c1a3a5db"
      },
      "execution_count": 55,
      "outputs": [
        {
          "output_type": "stream",
          "name": "stdout",
          "text": [
            "8\n"
          ]
        }
      ]
    },
    {
      "cell_type": "markdown",
      "source": [
        "Comparison Operators"
      ],
      "metadata": {
        "id": "rPBIyepmtaY6"
      }
    },
    {
      "cell_type": "code",
      "source": [
        "i=5>2   #True\n",
        "h = 3>5 #False\n",
        "print(i)\n",
        "print(h)\n",
        "\n",
        "not(i or h)"
      ],
      "metadata": {
        "colab": {
          "base_uri": "https://localhost:8080/"
        },
        "id": "8RD2DVeBtdVq",
        "outputId": "ba397b94-e20a-4fb0-8edc-055be51c0c18"
      },
      "execution_count": 56,
      "outputs": [
        {
          "output_type": "stream",
          "name": "stdout",
          "text": [
            "True\n",
            "False\n"
          ]
        },
        {
          "output_type": "execute_result",
          "data": {
            "text/plain": [
              "False"
            ]
          },
          "metadata": {},
          "execution_count": 56
        }
      ]
    },
    {
      "cell_type": "markdown",
      "source": [
        "Identity Operators"
      ],
      "metadata": {
        "id": "FmzE5rz3th8q"
      }
    },
    {
      "cell_type": "code",
      "source": [
        "Identity Operators"
      ],
      "metadata": {
        "id": "GauNsCJ7ti7q"
      },
      "execution_count": null,
      "outputs": []
    },
    {
      "cell_type": "code",
      "source": [
        "i is not h"
      ],
      "metadata": {
        "colab": {
          "base_uri": "https://localhost:8080/"
        },
        "id": "LE4FKC__tlFi",
        "outputId": "b35cde9d-2c85-4e7d-e320-4eb4443cfa04"
      },
      "execution_count": 57,
      "outputs": [
        {
          "output_type": "execute_result",
          "data": {
            "text/plain": [
              "True"
            ]
          },
          "metadata": {},
          "execution_count": 57
        }
      ]
    },
    {
      "cell_type": "markdown",
      "source": [
        "Bitwise Operators"
      ],
      "metadata": {
        "id": "nv_dFPcKtoxT"
      }
    },
    {
      "cell_type": "code",
      "source": [
        "v = 10\n",
        "v<<2\n",
        "\n",
        "y = 2\n",
        "\n",
        "y>>1"
      ],
      "metadata": {
        "colab": {
          "base_uri": "https://localhost:8080/"
        },
        "id": "J9GBv3Zjtpfj",
        "outputId": "1f1a8c36-c962-4225-ed03-12bcd272c3f6"
      },
      "execution_count": 58,
      "outputs": [
        {
          "output_type": "execute_result",
          "data": {
            "text/plain": [
              "1"
            ]
          },
          "metadata": {},
          "execution_count": 58
        }
      ]
    }
  ]
}